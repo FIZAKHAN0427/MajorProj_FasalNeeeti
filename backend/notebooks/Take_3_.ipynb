{
  "cells": [
    {
      "cell_type": "code",
      "execution_count": 1,
      "metadata": {
        "id": "MaLXmUwnU24i"
      },
      "outputs": [],
      "source": [
        "import numpy as np\n",
        "import pandas as pd\n",
        "\n",
        "df = pd.read_csv(\"APY.csv\")\n",
        "np.random.seed(42)\n",
        "\n",
        "df[\"NDVI_mean\"] = np.random.uniform(0.3, 0.8, len(df))\n",
        "df[\"rainfall_mm\"] = np.random.uniform(50, 300, len(df))\n",
        "df[\"temp_avg\"] = np.random.uniform(18, 35, len(df))\n",
        "df[\"soil_pH\"] = np.random.uniform(5.5, 8.0, len(df))\n",
        "\n",
        "df.to_csv(\"multimodal_crop_dataset.csv\", index=False)\n"
      ]
    },
    {
      "cell_type": "code",
      "execution_count": 2,
      "metadata": {
        "colab": {
          "base_uri": "https://localhost:8080/"
        },
        "id": "oIgHSS6FWaUM",
        "outputId": "068c8fae-8110-410a-8656-53255731f0f0"
      },
      "outputs": [
        {
          "name": "stdout",
          "output_type": "stream",
          "text": [
            "['State', 'District', 'Crop', 'Crop_Year', 'Season', 'Area', 'Production', 'Yield', 'NDVI_mean', 'rainfall_mm', 'temp_avg', 'soil_pH']\n"
          ]
        }
      ],
      "source": [
        "df.columns = df.columns.str.strip()\n",
        "print(df.columns.tolist())\n"
      ]
    },
    {
      "cell_type": "code",
      "execution_count": 3,
      "metadata": {
        "colab": {
          "base_uri": "https://localhost:8080/",
          "height": 293
        },
        "id": "yHovzQf_WJ9K",
        "outputId": "46b9ac82-6759-4777-89da-309031f2fe8a"
      },
      "outputs": [
        {
          "data": {
            "text/html": [
              "<div>\n",
              "<style scoped>\n",
              "    .dataframe tbody tr th:only-of-type {\n",
              "        vertical-align: middle;\n",
              "    }\n",
              "\n",
              "    .dataframe tbody tr th {\n",
              "        vertical-align: top;\n",
              "    }\n",
              "\n",
              "    .dataframe thead th {\n",
              "        text-align: right;\n",
              "    }\n",
              "</style>\n",
              "<table border=\"1\" class=\"dataframe\">\n",
              "  <thead>\n",
              "    <tr style=\"text-align: right;\">\n",
              "      <th></th>\n",
              "      <th>State</th>\n",
              "      <th>District</th>\n",
              "      <th>Crop</th>\n",
              "      <th>Crop_Year</th>\n",
              "      <th>Season</th>\n",
              "      <th>Area</th>\n",
              "      <th>Production</th>\n",
              "      <th>Yield</th>\n",
              "      <th>NDVI_mean</th>\n",
              "      <th>rainfall_mm</th>\n",
              "      <th>temp_avg</th>\n",
              "      <th>soil_pH</th>\n",
              "    </tr>\n",
              "  </thead>\n",
              "  <tbody>\n",
              "    <tr>\n",
              "      <th>0</th>\n",
              "      <td>Andaman and Nicobar Island</td>\n",
              "      <td>NICOBARS</td>\n",
              "      <td>Arecanut</td>\n",
              "      <td>2007</td>\n",
              "      <td>Kharif</td>\n",
              "      <td>2439.6</td>\n",
              "      <td>3415.0</td>\n",
              "      <td>1.40</td>\n",
              "      <td>0.487270</td>\n",
              "      <td>241.752852</td>\n",
              "      <td>20.643846</td>\n",
              "      <td>5.966527</td>\n",
              "    </tr>\n",
              "    <tr>\n",
              "      <th>1</th>\n",
              "      <td>Andaman and Nicobar Island</td>\n",
              "      <td>NICOBARS</td>\n",
              "      <td>Arecanut</td>\n",
              "      <td>2007</td>\n",
              "      <td>Rabi</td>\n",
              "      <td>1626.4</td>\n",
              "      <td>2277.0</td>\n",
              "      <td>1.40</td>\n",
              "      <td>0.775357</td>\n",
              "      <td>261.712505</td>\n",
              "      <td>28.169403</td>\n",
              "      <td>6.272131</td>\n",
              "    </tr>\n",
              "    <tr>\n",
              "      <th>2</th>\n",
              "      <td>Andaman and Nicobar Island</td>\n",
              "      <td>NICOBARS</td>\n",
              "      <td>Arecanut</td>\n",
              "      <td>2008</td>\n",
              "      <td>Autumn</td>\n",
              "      <td>4147.0</td>\n",
              "      <td>3060.0</td>\n",
              "      <td>0.74</td>\n",
              "      <td>0.665997</td>\n",
              "      <td>240.590931</td>\n",
              "      <td>20.294120</td>\n",
              "      <td>7.211945</td>\n",
              "    </tr>\n",
              "    <tr>\n",
              "      <th>3</th>\n",
              "      <td>Andaman and Nicobar Island</td>\n",
              "      <td>NICOBARS</td>\n",
              "      <td>Arecanut</td>\n",
              "      <td>2008</td>\n",
              "      <td>Summer</td>\n",
              "      <td>4147.0</td>\n",
              "      <td>2660.0</td>\n",
              "      <td>0.64</td>\n",
              "      <td>0.599329</td>\n",
              "      <td>155.305599</td>\n",
              "      <td>29.461618</td>\n",
              "      <td>5.844678</td>\n",
              "    </tr>\n",
              "    <tr>\n",
              "      <th>4</th>\n",
              "      <td>Andaman and Nicobar Island</td>\n",
              "      <td>NICOBARS</td>\n",
              "      <td>Arecanut</td>\n",
              "      <td>2009</td>\n",
              "      <td>Autumn</td>\n",
              "      <td>4153.0</td>\n",
              "      <td>3120.0</td>\n",
              "      <td>0.75</td>\n",
              "      <td>0.378009</td>\n",
              "      <td>289.390435</td>\n",
              "      <td>26.343111</td>\n",
              "      <td>6.957586</td>\n",
              "    </tr>\n",
              "  </tbody>\n",
              "</table>\n",
              "</div>"
            ],
            "text/plain": [
              "                        State  District      Crop  Crop_Year       Season  \\\n",
              "0  Andaman and Nicobar Island  NICOBARS  Arecanut       2007  Kharif        \n",
              "1  Andaman and Nicobar Island  NICOBARS  Arecanut       2007  Rabi          \n",
              "2  Andaman and Nicobar Island  NICOBARS  Arecanut       2008  Autumn        \n",
              "3  Andaman and Nicobar Island  NICOBARS  Arecanut       2008  Summer        \n",
              "4  Andaman and Nicobar Island  NICOBARS  Arecanut       2009  Autumn        \n",
              "\n",
              "     Area  Production  Yield  NDVI_mean  rainfall_mm   temp_avg   soil_pH  \n",
              "0  2439.6      3415.0   1.40   0.487270   241.752852  20.643846  5.966527  \n",
              "1  1626.4      2277.0   1.40   0.775357   261.712505  28.169403  6.272131  \n",
              "2  4147.0      3060.0   0.74   0.665997   240.590931  20.294120  7.211945  \n",
              "3  4147.0      2660.0   0.64   0.599329   155.305599  29.461618  5.844678  \n",
              "4  4153.0      3120.0   0.75   0.378009   289.390435  26.343111  6.957586  "
            ]
          },
          "execution_count": 3,
          "metadata": {},
          "output_type": "execute_result"
        }
      ],
      "source": [
        "df.head()"
      ]
    },
    {
      "cell_type": "code",
      "execution_count": null,
      "metadata": {
        "id": "b0CWG6maXDoY"
      },
      "outputs": [],
      "source": []
    },
    {
      "cell_type": "code",
      "execution_count": 4,
      "metadata": {
        "colab": {
          "base_uri": "https://localhost:8080/"
        },
        "id": "yt_takKMWPCx",
        "outputId": "ed770e40-a417-4b57-b21e-fe002077d2a0"
      },
      "outputs": [
        {
          "name": "stdout",
          "output_type": "stream",
          "text": [
            "MAE: 14.83375291307118\n",
            "R2 Score: 0.9152849373708202\n"
          ]
        }
      ],
      "source": [
        "from sklearn.model_selection import train_test_split\n",
        "from sklearn.ensemble import RandomForestRegressor\n",
        "from sklearn.metrics import mean_absolute_error, r2_score\n",
        "from sklearn.preprocessing import LabelEncoder\n",
        "import joblib\n",
        "\n",
        "# Drop rows with NaN in the target variable 'Yield'\n",
        "df.dropna(subset=['Yield'], inplace=True)\n",
        "\n",
        "encoders = {}\n",
        "for col in [\"State\", \"District\", \"Season\", \"Crop\"]:\n",
        "    le = LabelEncoder()\n",
        "    # Fit the encoder, and handle unknown labels by ignoring them\n",
        "    le.fit(df[col].astype(str))\n",
        "    df[col] = le.transform(df[col].astype(str))\n",
        "    encoders[col] = le\n",
        "    joblib.dump(le, f\"{col}_encoder.pkl\")  # save encoder\n",
        "\n",
        "\n",
        "# Prepare features and target\n",
        "X = df[[\"State\", \"District\", \"Crop\",\"Crop_Year\", \"Season\", \"Area\"]]\n",
        "\n",
        "y = df[\"Yield\"]\n",
        "\n",
        "# Split and train\n",
        "X_train, X_test, y_train, y_test = train_test_split(X, y, test_size=0.2, random_state=42)\n",
        "model = RandomForestRegressor(n_estimators=200, random_state=42)\n",
        "model.fit(X_train, y_train)\n",
        "\n",
        "\n",
        "pred = model.predict(X_test)\n",
        "print(\"MAE:\", mean_absolute_error(y_test, pred))\n",
        "print(\"R2 Score:\", r2_score(y_test, pred))"
      ]
    },
    {
      "cell_type": "code",
      "execution_count": 5,
      "metadata": {
        "colab": {
          "base_uri": "https://localhost:8080/"
        },
        "id": "hl1Yj3Bsm5ui",
        "outputId": "aab89d33-06ec-40d5-97f9-876298addd56"
      },
      "outputs": [
        {
          "name": "stdout",
          "output_type": "stream",
          "text": [
            "Warning: Unseen label encountered during transformation for LabelEncoder(). Using default value -1.\n",
            "🌾 Predicted Yield: 1.6131999999999973\n"
          ]
        }
      ],
      "source": [
        "import pandas as pd\n",
        "import joblib\n",
        "\n",
        "# Load encoders and model\n",
        "state_encoder = joblib.load(\"State_encoder.pkl\")\n",
        "district_encoder = joblib.load(\"District_encoder.pkl\")\n",
        "season_encoder = joblib.load(\"Season_encoder.pkl\")\n",
        "crop_encoder = joblib.load(\"Crop_encoder.pkl\")\n",
        "\n",
        "# Example test input\n",
        "test_input = pd.DataFrame({\n",
        "    \"State\": [\"Andhra Pradesh\"],\n",
        "    \"District\": [\"WARANGAL\"],\n",
        "    \"Crop\": [\"Wheat\"],\n",
        "    \"Crop_Year\": [2012],\n",
        "    \"Season\": [\"Rabi\"],\n",
        "    \"Area\": [900]\n",
        "})\n",
        "\n",
        "# Encode using same mappings, handling unknown labels\n",
        "# Use a helper function to handle potential unknown labels during transformation\n",
        "def safe_transform(encoder, data, default_value=-1):\n",
        "    try:\n",
        "        return encoder.transform(data)\n",
        "    except ValueError:\n",
        "        # Handle unseen labels by returning a default value (e.g., -1) or the closest known label\n",
        "        # For simplicity, we'll return a default value here\n",
        "        print(f\"Warning: Unseen label encountered during transformation for {encoder}. Using default value {default_value}.\")\n",
        "        return [default_value] * len(data)\n",
        "\n",
        "\n",
        "test_input[\"State\"] = safe_transform(state_encoder, test_input[\"State\"])\n",
        "test_input[\"District\"] = safe_transform(district_encoder, test_input[\"District\"])\n",
        "test_input[\"Season\"] = safe_transform(season_encoder, test_input[\"Season\"])\n",
        "test_input[\"Crop\"] = safe_transform(crop_encoder, test_input[\"Crop\"])\n",
        "\n",
        "\n",
        "# Predict\n",
        "pred_yield = model.predict(test_input)\n",
        "print(\"🌾 Predicted Yield:\", pred_yield[0])"
      ]
    },
    {
      "cell_type": "code",
      "execution_count": 6,
      "metadata": {
        "id": "aj_tnXXqjkKg"
      },
      "outputs": [],
      "source": [
        "import pandas as pd\n",
        "\n",
        "# Example single input\n",
        "test_input = pd.DataFrame({\n",
        "    \"State\": [12],\n",
        "    \"District\": [45],\n",
        "    \"Crop\": [3],\n",
        "    \"Crop_Year\": [2025],\n",
        "    \"Season\": [2],\n",
        "    \"Area\": [850]\n",
        "})\n"
      ]
    },
    {
      "cell_type": "code",
      "execution_count": 7,
      "metadata": {
        "colab": {
          "base_uri": "https://localhost:8080/"
        },
        "id": "FdiGMxmnjqQG",
        "outputId": "ea160091-32db-45fd-8722-23baa04f4422"
      },
      "outputs": [
        {
          "name": "stdout",
          "output_type": "stream",
          "text": [
            "✅ Predicted Yield: 10.99 (quintals/ha or as per your dataset unit)\n"
          ]
        }
      ],
      "source": [
        "# Example: if you trained with a pipeline\n",
        "predicted_yield = model.predict(test_input)\n",
        "print(f\"✅ Predicted Yield: {predicted_yield[0]:.2f} (quintals/ha or as per your dataset unit)\")\n"
      ]
    },
    {
      "cell_type": "code",
      "execution_count": 8,
      "metadata": {
        "colab": {
          "base_uri": "https://localhost:8080/"
        },
        "id": "eCkGgylOdU3e",
        "outputId": "8ff7e6e9-9ecf-4c82-b1b9-5a3b8bbdbdbd"
      },
      "outputs": [
        {
          "name": "stdout",
          "output_type": "stream",
          "text": [
            "Original R2: 0.9152849373708202\n",
            "Corrected R2: 0.9040060093995514\n"
          ]
        }
      ],
      "source": [
        "# Step 1: Predict yield\n",
        "pred = model.predict(X_test)\n",
        "\n",
        "# Step 2: Suppose you have or simulate environmental factors\n",
        "# (you can use averages, or fetch from APIs)\n",
        "temp_avg = np.random.uniform(20, 40, size=len(X_test))\n",
        "ndvi_mean = np.random.uniform(0.2, 0.8, size=len(X_test))\n",
        "\n",
        "# Step 3: Apply physics-informed correction\n",
        "def apply_physics_constraints(pred, temp, ndvi):\n",
        "    correction = np.where(temp > 35, pred * 0.9, pred)  # reduce yield at high temp\n",
        "    correction = np.where(ndvi < 0.4, correction * 0.85, correction)  # penalize low vegetation\n",
        "    return correction\n",
        "\n",
        "corrected_pred = apply_physics_constraints(pred, temp_avg, ndvi_mean)\n",
        "\n",
        "# Step 4: Evaluate improvement (optional)\n",
        "from sklearn.metrics import r2_score\n",
        "print(\"Original R2:\", r2_score(y_test, pred))\n",
        "print(\"Corrected R2:\", r2_score(y_test, corrected_pred))\n"
      ]
    },
    {
      "cell_type": "code",
      "execution_count": 9,
      "metadata": {
        "colab": {
          "base_uri": "https://localhost:8080/"
        },
        "id": "kHzM8QrcCY1w",
        "outputId": "3eddd20e-4762-45fd-e3d3-0270d6f4b1be"
      },
      "outputs": [
        {
          "name": "stdout",
          "output_type": "stream",
          "text": [
            "✅ Model saved as crop_yield_model.pkl\n"
          ]
        }
      ],
      "source": [
        "# Save the best model (Random Forest)\n",
        "import joblib\n",
        "\n",
        "joblib.dump(model, \"crop_yield_model.pkl\")   # rf_best_model = your trained RandomForest model\n",
        "print(\"✅ Model saved as crop_yield_model.pkl\")\n"
      ]
    },
    {
      "cell_type": "code",
      "execution_count": 10,
      "metadata": {
        "colab": {
          "base_uri": "https://localhost:8080/",
          "height": 34
        },
        "id": "V4z4qpFDIgwY",
        "outputId": "7558c123-003d-48de-aede-fbd3c03374a2"
      },
      "outputs": [
        {
          "ename": "ModuleNotFoundError",
          "evalue": "No module named 'google.colab'",
          "output_type": "error",
          "traceback": [
            "\u001b[1;31m---------------------------------------------------------------------------\u001b[0m",
            "\u001b[1;31mModuleNotFoundError\u001b[0m                       Traceback (most recent call last)",
            "Cell \u001b[1;32mIn[10], line 1\u001b[0m\n\u001b[1;32m----> 1\u001b[0m \u001b[38;5;28;01mfrom\u001b[39;00m \u001b[38;5;21;01mgoogle\u001b[39;00m\u001b[38;5;21;01m.\u001b[39;00m\u001b[38;5;21;01mcolab\u001b[39;00m \u001b[38;5;28;01mimport\u001b[39;00m files\n\u001b[0;32m      2\u001b[0m files\u001b[38;5;241m.\u001b[39mdownload(\u001b[38;5;124m'\u001b[39m\u001b[38;5;124mcrop_yield_model.pkl\u001b[39m\u001b[38;5;124m'\u001b[39m)\n",
            "\u001b[1;31mModuleNotFoundError\u001b[0m: No module named 'google.colab'"
          ]
        }
      ],
      "source": [
        "from google.colab import files\n",
        "files.download('crop_yield_model.pkl') # Replace with your model's filename"
      ]
    },
    {
      "cell_type": "code",
      "execution_count": null,
      "metadata": {
        "colab": {
          "base_uri": "https://localhost:8080/"
        },
        "id": "1XXcsNQXWwOU",
        "outputId": "f5a3662d-1361-4056-9dfa-39a84819d856"
      },
      "outputs": [
        {
          "name": "stdout",
          "output_type": "stream",
          "text": [
            "Collecting streamlit\n",
            "  Downloading streamlit-1.50.0-py3-none-any.whl.metadata (9.5 kB)\n",
            "Collecting pyngrok\n",
            "  Downloading pyngrok-7.4.0-py3-none-any.whl.metadata (8.1 kB)\n",
            "Requirement already satisfied: joblib in /usr/local/lib/python3.12/dist-packages (1.5.2)\n",
            "Requirement already satisfied: altair!=5.4.0,!=5.4.1,<6,>=4.0 in /usr/local/lib/python3.12/dist-packages (from streamlit) (5.5.0)\n",
            "Requirement already satisfied: blinker<2,>=1.5.0 in /usr/local/lib/python3.12/dist-packages (from streamlit) (1.9.0)\n",
            "Requirement already satisfied: cachetools<7,>=4.0 in /usr/local/lib/python3.12/dist-packages (from streamlit) (5.5.2)\n",
            "Requirement already satisfied: click<9,>=7.0 in /usr/local/lib/python3.12/dist-packages (from streamlit) (8.3.0)\n",
            "Requirement already satisfied: numpy<3,>=1.23 in /usr/local/lib/python3.12/dist-packages (from streamlit) (2.0.2)\n",
            "Requirement already satisfied: packaging<26,>=20 in /usr/local/lib/python3.12/dist-packages (from streamlit) (25.0)\n",
            "Requirement already satisfied: pandas<3,>=1.4.0 in /usr/local/lib/python3.12/dist-packages (from streamlit) (2.2.2)\n",
            "Requirement already satisfied: pillow<12,>=7.1.0 in /usr/local/lib/python3.12/dist-packages (from streamlit) (11.3.0)\n",
            "Requirement already satisfied: protobuf<7,>=3.20 in /usr/local/lib/python3.12/dist-packages (from streamlit) (5.29.5)\n",
            "Requirement already satisfied: pyarrow>=7.0 in /usr/local/lib/python3.12/dist-packages (from streamlit) (18.1.0)\n",
            "Requirement already satisfied: requests<3,>=2.27 in /usr/local/lib/python3.12/dist-packages (from streamlit) (2.32.4)\n",
            "Requirement already satisfied: tenacity<10,>=8.1.0 in /usr/local/lib/python3.12/dist-packages (from streamlit) (8.5.0)\n",
            "Requirement already satisfied: toml<2,>=0.10.1 in /usr/local/lib/python3.12/dist-packages (from streamlit) (0.10.2)\n",
            "Requirement already satisfied: typing-extensions<5,>=4.4.0 in /usr/local/lib/python3.12/dist-packages (from streamlit) (4.15.0)\n",
            "Requirement already satisfied: watchdog<7,>=2.1.5 in /usr/local/lib/python3.12/dist-packages (from streamlit) (6.0.0)\n",
            "Requirement already satisfied: gitpython!=3.1.19,<4,>=3.0.7 in /usr/local/lib/python3.12/dist-packages (from streamlit) (3.1.45)\n",
            "Collecting pydeck<1,>=0.8.0b4 (from streamlit)\n",
            "  Downloading pydeck-0.9.1-py2.py3-none-any.whl.metadata (4.1 kB)\n",
            "Requirement already satisfied: tornado!=6.5.0,<7,>=6.0.3 in /usr/local/lib/python3.12/dist-packages (from streamlit) (6.4.2)\n",
            "Requirement already satisfied: PyYAML>=5.1 in /usr/local/lib/python3.12/dist-packages (from pyngrok) (6.0.3)\n",
            "Requirement already satisfied: jinja2 in /usr/local/lib/python3.12/dist-packages (from altair!=5.4.0,!=5.4.1,<6,>=4.0->streamlit) (3.1.6)\n",
            "Requirement already satisfied: jsonschema>=3.0 in /usr/local/lib/python3.12/dist-packages (from altair!=5.4.0,!=5.4.1,<6,>=4.0->streamlit) (4.25.1)\n",
            "Requirement already satisfied: narwhals>=1.14.2 in /usr/local/lib/python3.12/dist-packages (from altair!=5.4.0,!=5.4.1,<6,>=4.0->streamlit) (2.7.0)\n",
            "Requirement already satisfied: gitdb<5,>=4.0.1 in /usr/local/lib/python3.12/dist-packages (from gitpython!=3.1.19,<4,>=3.0.7->streamlit) (4.0.12)\n",
            "Requirement already satisfied: python-dateutil>=2.8.2 in /usr/local/lib/python3.12/dist-packages (from pandas<3,>=1.4.0->streamlit) (2.9.0.post0)\n",
            "Requirement already satisfied: pytz>=2020.1 in /usr/local/lib/python3.12/dist-packages (from pandas<3,>=1.4.0->streamlit) (2025.2)\n",
            "Requirement already satisfied: tzdata>=2022.7 in /usr/local/lib/python3.12/dist-packages (from pandas<3,>=1.4.0->streamlit) (2025.2)\n",
            "Requirement already satisfied: charset_normalizer<4,>=2 in /usr/local/lib/python3.12/dist-packages (from requests<3,>=2.27->streamlit) (3.4.3)\n",
            "Requirement already satisfied: idna<4,>=2.5 in /usr/local/lib/python3.12/dist-packages (from requests<3,>=2.27->streamlit) (3.10)\n",
            "Requirement already satisfied: urllib3<3,>=1.21.1 in /usr/local/lib/python3.12/dist-packages (from requests<3,>=2.27->streamlit) (2.5.0)\n",
            "Requirement already satisfied: certifi>=2017.4.17 in /usr/local/lib/python3.12/dist-packages (from requests<3,>=2.27->streamlit) (2025.10.5)\n",
            "Requirement already satisfied: smmap<6,>=3.0.1 in /usr/local/lib/python3.12/dist-packages (from gitdb<5,>=4.0.1->gitpython!=3.1.19,<4,>=3.0.7->streamlit) (5.0.2)\n",
            "Requirement already satisfied: MarkupSafe>=2.0 in /usr/local/lib/python3.12/dist-packages (from jinja2->altair!=5.4.0,!=5.4.1,<6,>=4.0->streamlit) (3.0.3)\n",
            "Requirement already satisfied: attrs>=22.2.0 in /usr/local/lib/python3.12/dist-packages (from jsonschema>=3.0->altair!=5.4.0,!=5.4.1,<6,>=4.0->streamlit) (25.4.0)\n",
            "Requirement already satisfied: jsonschema-specifications>=2023.03.6 in /usr/local/lib/python3.12/dist-packages (from jsonschema>=3.0->altair!=5.4.0,!=5.4.1,<6,>=4.0->streamlit) (2025.9.1)\n",
            "Requirement already satisfied: referencing>=0.28.4 in /usr/local/lib/python3.12/dist-packages (from jsonschema>=3.0->altair!=5.4.0,!=5.4.1,<6,>=4.0->streamlit) (0.36.2)\n",
            "Requirement already satisfied: rpds-py>=0.7.1 in /usr/local/lib/python3.12/dist-packages (from jsonschema>=3.0->altair!=5.4.0,!=5.4.1,<6,>=4.0->streamlit) (0.27.1)\n",
            "Requirement already satisfied: six>=1.5 in /usr/local/lib/python3.12/dist-packages (from python-dateutil>=2.8.2->pandas<3,>=1.4.0->streamlit) (1.17.0)\n",
            "Downloading streamlit-1.50.0-py3-none-any.whl (10.1 MB)\n",
            "\u001b[2K   \u001b[90m━━━━━━━━━━━━━━━━━━━━━━━━━━━━━━━━━━━━━━━━\u001b[0m \u001b[32m10.1/10.1 MB\u001b[0m \u001b[31m45.0 MB/s\u001b[0m eta \u001b[36m0:00:00\u001b[0m\n",
            "\u001b[?25hDownloading pyngrok-7.4.0-py3-none-any.whl (25 kB)\n",
            "Downloading pydeck-0.9.1-py2.py3-none-any.whl (6.9 MB)\n",
            "\u001b[2K   \u001b[90m━━━━━━━━━━━━━━━━━━━━━━━━━━━━━━━━━━━━━━━━\u001b[0m \u001b[32m6.9/6.9 MB\u001b[0m \u001b[31m86.0 MB/s\u001b[0m eta \u001b[36m0:00:00\u001b[0m\n",
            "\u001b[?25hInstalling collected packages: pyngrok, pydeck, streamlit\n",
            "Successfully installed pydeck-0.9.1 pyngrok-7.4.0 streamlit-1.50.0\n"
          ]
        }
      ],
      "source": [
        "!pip install streamlit pyngrok joblib\n"
      ]
    },
    {
      "cell_type": "code",
      "execution_count": null,
      "metadata": {
        "colab": {
          "base_uri": "https://localhost:8080/"
        },
        "id": "06SfoaeJXE-L",
        "outputId": "7ae0e068-89e3-4947-9941-806a8bc27af3"
      },
      "outputs": [
        {
          "name": "stdout",
          "output_type": "stream",
          "text": [
            "Overwriting app.py\n"
          ]
        }
      ],
      "source": [
        "%%writefile app.py\n",
        "import streamlit as st\n",
        "import joblib\n",
        "import numpy as np\n",
        "import pandas as pd\n",
        "import gzip\n",
        "\n",
        "# Load Model\n",
        "try:\n",
        "    with gzip.open(\"crop_yield_model.pkl.gz\", \"rb\") as f:\n",
        "        model = joblib.load(f)\n",
        "except:\n",
        "    model = joblib.load(\"crop_yield_model.pkl\")\n",
        "\n",
        "# Load Encoders\n",
        "encoders = {}\n",
        "for col in [\"State\", \"District\", \"Season\", \"Crop\"]:\n",
        "    try:\n",
        "        encoders[col] = joblib.load(f\"{col}_encoder.pkl\")\n",
        "    except:\n",
        "        encoders[col] = None\n",
        "\n",
        "st.set_page_config(page_title=\"Crop Yield Prediction\", page_icon=\"🌾\", layout=\"centered\")\n",
        "\n",
        "st.title(\"🌾 AI-Powered Crop Yield Prediction\")\n",
        "st.markdown(\"Predict expected crop yield using machine learning trained on Indian crop data.\")\n",
        "\n",
        "# --- User Input Section ---\n",
        "st.subheader(\"Enter Crop & Location Details\")\n",
        "\n",
        "col1, col2 = st.columns(2)\n",
        "with col1:\n",
        "    state = st.text_input(\"State\", \"Maharashtra\")\n",
        "    district = st.text_input(\"District\", \"Pune\")\n",
        "    crop = st.text_input(\"Crop\", \"Wheat\")\n",
        "with col2:\n",
        "    season = st.selectbox(\"Season\", [\"Kharif\", \"Rabi\", \"Summer\"])\n",
        "    area = st.number_input(\"Area (in Hectares)\", min_value=0.1, max_value=10000.0, value=10.0)\n",
        "    year = st.number_input(\"Crop Year\", min_value=2000, max_value=2025, value=2023)\n",
        "\n",
        "if st.button(\"🔍 Predict Yield\"):\n",
        "    try:\n",
        "        # Encode categorical fields\n",
        "        inputs = []\n",
        "        for col, val in zip([\"State\", \"District\", \"Crop\", \"Season\"], [state, district, crop, season]):\n",
        "            le = encoders[col]\n",
        "            if le is not None and val in le.classes_:\n",
        "                encoded_val = le.transform([val])[0]\n",
        "            else:\n",
        "                encoded_val = 0  # fallback for unseen\n",
        "            inputs.append(encoded_val)\n",
        "\n",
        "        # Add numeric inputs\n",
        "        inputs.extend([year, area])\n",
        "        X_input = np.array(inputs).reshape(1, -1)\n",
        "\n",
        "        # Predict yield\n",
        "        pred = model.predict(X_input)[0]\n",
        "        st.success(f\"🌱 **Predicted Yield:** {pred:.2f} Quintals\")\n",
        "\n",
        "    except Exception as e:\n",
        "        st.error(f\"Error during prediction: {e}\")\n"
      ]
    },
    {
      "cell_type": "code",
      "execution_count": null,
      "metadata": {
        "colab": {
          "base_uri": "https://localhost:8080/"
        },
        "id": "cZtCDp4_XHBs",
        "outputId": "ce4dcbce-05e6-4270-e7a5-400eba9094b4"
      },
      "outputs": [
        {
          "name": "stdout",
          "output_type": "stream",
          "text": [
            "\n",
            "Collecting usage statistics. To deactivate, set browser.gatherUsageStats to false.\n",
            "\u001b[0m\n",
            "\u001b[0m\n",
            "\u001b[34m\u001b[1m  You can now view your Streamlit app in your browser.\u001b[0m\n",
            "\u001b[0m\n",
            "\u001b[34m  Local URL: \u001b[0m\u001b[1mhttp://localhost:8501\u001b[0m\n",
            "\u001b[34m  Network URL: \u001b[0m\u001b[1mhttp://172.28.0.12:8501\u001b[0m\n",
            "\u001b[34m  External URL: \u001b[0m\u001b[1mhttp://34.80.75.187:8501\u001b[0m\n",
            "\u001b[0m\n"
          ]
        }
      ],
      "source": [
        "from pyngrok import ngrok\n",
        "!streamlit run app.py &\n",
        "\n",
        "# Create tunnel for public URL\n",
        "public_url = ngrok.connect(8501)\n",
        "print(\"Streamlit App URL:\", public_url)\n"
      ]
    }
  ],
  "metadata": {
    "colab": {
      "provenance": []
    },
    "kernelspec": {
      "display_name": "base",
      "language": "python",
      "name": "python3"
    },
    "language_info": {
      "codemirror_mode": {
        "name": "ipython",
        "version": 3
      },
      "file_extension": ".py",
      "mimetype": "text/x-python",
      "name": "python",
      "nbconvert_exporter": "python",
      "pygments_lexer": "ipython3",
      "version": "3.12.4"
    }
  },
  "nbformat": 4,
  "nbformat_minor": 0
}
