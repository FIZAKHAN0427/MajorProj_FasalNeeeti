{
  "nbformat": 4,
  "nbformat_minor": 0,
  "metadata": {
    "colab": {
      "provenance": []
    },
    "kernelspec": {
      "name": "python3",
      "display_name": "Python 3"
    },
    "language_info": {
      "name": "python"
    }
  },
  "cells": [
    {
      "cell_type": "code",
      "execution_count": null,
      "metadata": {
        "colab": {
          "base_uri": "https://localhost:8080/"
        },
        "id": "__Cz6PynNd5W",
        "outputId": "35adb864-33f4-451b-da24-c98b20794de4"
      },
      "outputs": [
        {
          "output_type": "stream",
          "name": "stdout",
          "text": [
            "✅ JavaScript mapping created successfully!\n",
            "const stateDistricts = {\"Andaman and Nicobar Island\": [\"NICOBARS\", \"NORTH AND MIDDLE ANDAMAN\", \"SOUTH ANDAMANS\"], \"Andhra Pradesh\": [\"ADILABAD\", \"ANANTAPUR\", \"CHITTOOR\", \"EAST GODAVARI\", \"GUNTUR\", \"HYDERABAD\", \"KADAPA\", \"KARIMNAGAR\", \"KHAMMAM\", \"KRISHNA\", \"KURNOOL\", \"MAHBUBNAGAR\", \"MEDAK\", \"NALGONDA\", \"NIZAMABAD\", \"PRAKASAM\", \"RANGAREDDI\", \"SPSR NELLORE\", \"SRIKAKULAM\", \"VISAKHAPATANAM\", \"VIZIANAGARAM\", \"WARANGAL\", \"WEST GODAVARI\"], \"Arunachal Pradesh\": [\"ANJAW\", \"CHANGLANG\", \"DIBANG VALLEY\", \"EAST KAMENG\", \"EAST SIANG\", \"KAMLE\", \"KRA DAADI\", \"KURUNG KUMEY\", \"LEPARADA\", \"LOHIT\", \"LONGDING\", \"LOWER DIBANG VALLEY\", \"LOWER SIANG\", \"LOWER SUBANSIRI\", \"NAMSAI\", \"PAKKE KESSANG\", \"PAPUM PARE\", \"SHI YOMI\", \"SIANG\", \"TAWANG\", \"TIRAP\", \"UPPER SIANG\", \"UPPER SUBANSIRI\", \"WEST KAMENG\", \"WEST SIANG\"], \"Assam\": [\"BAKSA\", \"BARPETA\", \"BISWANATH\\n\", \"BONGAIGAON\", \"CACHAR\", \"CHARAIDEO\\n\", \"CHIRANG\", \"DARRANG\", \"DHEMAJI\", \"DHUBRI\", \"DIBRUGARH\", \"DIMA HASAO\", \"GOALPARA\", \"GOLAGHAT\", \"HAILAKANDI\", \"HOJAI\\n\"\n"
          ]
        }
      ],
      "source": [
        "import pandas as pd\n",
        "\n",
        "# Load your Excel file\n",
        "df = pd.read_csv(\"APY.csv\")\n",
        "\n",
        "# Clean column names (just in case)\n",
        "df.columns = df.columns.str.strip()\n",
        "\n",
        "# Group by State and get unique districts\n",
        "state_districts = (\n",
        "    df.groupby(\"State\")[\"District\"]\n",
        "    .apply(lambda x: sorted(set(x)))  # unique + sorted for neatness\n",
        "    .to_dict()\n",
        ")\n",
        "\n",
        "# Convert to JavaScript object format\n",
        "js_code = \"const stateDistricts = \" + str(state_districts).replace(\"'\", '\"') + \";\"\n",
        "\n",
        "# Save to file (optional)\n",
        "with open(\"stateDistricts.js\", \"w\", encoding=\"utf-8\") as f:\n",
        "    f.write(js_code)\n",
        "\n",
        "print(\"✅ JavaScript mapping created successfully!\")\n",
        "print(js_code[:1000])  # print first 1000 chars for preview\n"
      ]
    },
    {
      "cell_type": "code",
      "source": [],
      "metadata": {
        "id": "NnxksJ2LZYRo"
      },
      "execution_count": null,
      "outputs": []
    }
  ]
}